{
 "cells": [
  {
   "cell_type": "markdown",
   "metadata": {},
   "source": [
    "<h1>La décomposition thermique de l’hydrogénocarbonate de sodium</h1>\n",
    "<br>Ce TP de programmation est basé sur un TP de chimie 1ère S de 2004 du lycée Pascal de Colmar portant sur la décomposition thermique de l’hydrogénocarbonate de sodium.<ul>\n",
    "<li><a href=\"http://www.physagreg.fr/Cours1ere/Chimie/TP/Chimie-TP1-hydrogenocarbonate_de_sodium-eleve.pdf\">Document vierge à distribuer aux élèves</a>\n",
    "<li><a href=\"http://www.physagreg.fr/Cours1ere/Chimie/TP/Chimie-TP1-hydrogenocarbonate_de_sodium-prof.pdf\">Document final (pour le professeur)</a></ul>"
   ]
  },
  {
   "cell_type": "code",
   "execution_count": 85,
   "metadata": {},
   "outputs": [],
   "source": [
    "from IPython.display import HTML #pour l'affichage des videos youtube\n",
    "from collections import Counter #pour représenter les molécules"
   ]
  },
  {
   "cell_type": "markdown",
   "metadata": {},
   "source": [
    "<h2>1) Equilibrer des équation chimiques</h2>\n",
    "<h3>a) Représenter les molécules par des objets <i>Counter</i></h3>\n",
    "Les <b>molécules</b> sont représentées par des objets python <i>Counter</i> de la librairie <i>collections</i>. C'est une classe basée sur un dictionnaire (objet python <i>dict</i> comprenant des couples clé-valeur) dans laquelle les valeurs sont numériques. Pour les <b>molécules</b>, les clés seront des textes représentant les <b>éléments</b> présents dans la molécule. Cette classe supporte l'addition. Ci-dessous la déclaration de l'hydrogénocarbonate de sodium NaHCO3(s) et de sous produits possibles de sa décomposition thermique."
   ]
  },
  {
   "cell_type": "code",
   "execution_count": 38,
   "metadata": {},
   "outputs": [],
   "source": [
    "NaHCO3=Counter({'Na':1,'H':1,'C':1,'O':3})\n",
    "NaOH=Counter({'Na':1,'H':1,'O':1})\n",
    "H2O=Counter({'H':2,'O':1})\n",
    "C=Counter({'C':1})\n",
    "CO2=Counter({'C':1,'O':2})\n",
    "O2=Counter({'O':2})\n",
    "Na2CO3=Counter({'Na':2,'C':1,'O':3})\n",
    "Na2O=Counter({'Na':2,'O':1})"
   ]
  },
  {
   "cell_type": "markdown",
   "metadata": {},
   "source": [
    "Les objets <i>Counter</i> ne supportent pas la multiplication par un nombre. La fonction ci-dessous <i>nb_mol</i> permet de\n",
    "mutiplier un nombre et une molécule représentée par un objet <i>Counter</i> afin d'obtenir une molécule dans laquelle le nombre de chaque atome a été multiplié."
   ]
  },
  {
   "cell_type": "code",
   "execution_count": 51,
   "metadata": {},
   "outputs": [],
   "source": [
    "def nb_mol(nombre,molecule):\n",
    "    \"\"\"\n",
    "    Multiplie un nombre et un objet Counter() représentant une molecule\n",
    "    Prend deux arguments : \"nombre\" (le nombre de molécules) et \"molecule\" (object Counter représentant la molécule)\n",
    "    Retourne un un objet Counter dont le nombre pour chaque clé (réprésentant un élément) est le produit\n",
    "    du nombre entré et du nombre initial présent dans la molecule.\n",
    "    \"\"\"\n",
    "    #Créer un objet Counter vide\n",
    "    resultat=Counter() \n",
    "    #Itération sur l'ensemble des clés de l'objet Counter représentant la molécule (chaque atome)\n",
    "    for atome in molecule:\n",
    "        #Ajoute dans l'objet final pour l'atome considéré le produit entre le nombre de molécule \n",
    "        #et du nombre initial de cet atome dans la molécule\n",
    "        resultat[atome]=nombre*molecule[atome]\n",
    "    #Retourne l'objet Counter dont les couples clés-valeur ont été remplis\n",
    "    return resultat"
   ]
  },
  {
   "cell_type": "markdown",
   "metadata": {},
   "source": [
    "Dans un notebook python, il est possible d'obtenir de l'aide sur une fonction en saisissant son nom suivi de \"?\". On obtient alors le <i>Docstring</i> déclaré au moment de la déclaration de la fonction. Par exemple pour la fonction <i>nb_mol</i> :"
   ]
  },
  {
   "cell_type": "code",
   "execution_count": 53,
   "metadata": {},
   "outputs": [],
   "source": [
    "nb_mol?"
   ]
  },
  {
   "cell_type": "markdown",
   "metadata": {},
   "source": [
    "Dans un notebook python, la sortie \"Out\" d'une cellule de code renvoi les objets retournés ou déclarés dans la dernière ligne de code. Ceci permet de tester par exemple la fonction <i>nb_mol</i> sur l'hydrogénocarbonate de sodium :"
   ]
  },
  {
   "cell_type": "code",
   "execution_count": 55,
   "metadata": {},
   "outputs": [
    {
     "data": {
      "text/plain": [
       "Counter({'Na': 2, 'H': 2, 'C': 2, 'O': 6})"
      ]
     },
     "execution_count": 55,
     "metadata": {},
     "output_type": "execute_result"
    }
   ],
   "source": [
    "nb_mol(2,NaHCO3)"
   ]
  },
  {
   "cell_type": "markdown",
   "metadata": {},
   "source": [
    "<h3>b) Equations candidates pour la décomposition de hydrogénocarbonate de sodium</h3>\n",
    "Pour la décomposition thermique de l'hydrogénocarbonate de sodium nous avons 4 équations candidates.\n",
    "<br>2 NaHCO3(s) → 2 NaOH(s) + H2O(g) (1)\n",
    "<br>2 NaHCO3(s) → Na2O(s) + 2 O2(g) + 2 C(s) + H2O(g) (2)\n",
    "<br> 2 NaHCO3(s) → Na2O(s) + 2 CO2(g) + H2O(g) (3)\n",
    "<br> 2 NaHCO3(s) → Na2CO3(s) + CO2(g) + H2O(g) (4)\n",
    "<h3>c) Vérifier si des équations sont équilibrée à l'aide d'objets python</h3>\n",
    "Deux objets Counter ayant les mêmes nombres pour les même clés sont identiques lors d'un test d'égalité avec l'opérateur logique <i>==</i>. Cette propriété est utilisée pour vérifier si une réaction chimique est équilibrée. La cellule ci-dessous affecte le résultat du test d'égalité à une variable <i>est_equilibree</i> puis demande d'afficher le contenu de cette variable"
   ]
  },
  {
   "cell_type": "code",
   "execution_count": 57,
   "metadata": {},
   "outputs": [
    {
     "data": {
      "text/plain": [
       "False"
      ]
     },
     "execution_count": 57,
     "metadata": {},
     "output_type": "execute_result"
    }
   ],
   "source": [
    "est_equilibree = nb_mol(2,NaHCO3) == nb_mol(2,NaOH) + H2O \n",
    "est_equilibree"
   ]
  },
  {
   "cell_type": "markdown",
   "metadata": {},
   "source": [
    "Une cellule de code renvoit le résultat du calcul de la dernière ligne. On peut directement vérifier l'égalité entre deux objets sans passer par la variable <i>est_equilibree</i>"
   ]
  },
  {
   "cell_type": "code",
   "execution_count": 58,
   "metadata": {},
   "outputs": [
    {
     "data": {
      "text/plain": [
       "False"
      ]
     },
     "execution_count": 58,
     "metadata": {},
     "output_type": "execute_result"
    }
   ],
   "source": [
    "nb_mol(2,NaHCO3) == nb_mol(2,NaOH) + H2O"
   ]
  },
  {
   "cell_type": "markdown",
   "metadata": {},
   "source": [
    "L'absence d'équilibre peut être mis en évidence en demandant d'afficher le contenu des variables (s'il y a plusieurs variable sur la dernière ligne d'une ligne de code, la sortie \"Out\" les affiche successivement)"
   ]
  },
  {
   "cell_type": "code",
   "execution_count": 36,
   "metadata": {},
   "outputs": [
    {
     "data": {
      "text/plain": [
       "(Counter({'Na': 2, 'H': 2, 'C': 2, 'O': 6}),\n",
       " Counter({'Na': 2, 'H': 4, 'O': 3}))"
      ]
     },
     "execution_count": 36,
     "metadata": {},
     "output_type": "execute_result"
    }
   ],
   "source": [
    "nb_mol(2,NaHCO3) , nb_mol(2,NaOH) + H2O "
   ]
  },
  {
   "cell_type": "markdown",
   "metadata": {},
   "source": [
    "<h5>Exercice</h5> vérifier si les équations candidates (2) (3) et (4) sont équilibrée"
   ]
  },
  {
   "cell_type": "code",
   "execution_count": null,
   "metadata": {},
   "outputs": [],
   "source": []
  },
  {
   "cell_type": "code",
   "execution_count": null,
   "metadata": {},
   "outputs": [],
   "source": []
  },
  {
   "cell_type": "code",
   "execution_count": null,
   "metadata": {},
   "outputs": [],
   "source": []
  },
  {
   "cell_type": "markdown",
   "metadata": {},
   "source": [
    "<h2>2) Tests expérimentaux sur les dégagements gazeux</h2>\n",
    "La formule candidate (2) comprend un dégagement d'O2(g) et ne prévoit pas de dégagement de CO2(g).\n",
    "<br>2 NaHCO3(s) → Na2O(s) + 2 O2(g) + 2 C(s) + H2O(g) (2)<br><br>\n",
    "Les formules candidates (3) et (4) ne comportent pas de dégagement d'O2(g) et prévoient un dégagement de CO2(g)\n",
    "<br> 2 NaHCO3(s) → Na2O(s) + 2 CO2(g) + H2O(g) (3)\n",
    "<br> 2 NaHCO3(s) → Na2CO3(s) + CO2(g) + H2O(g) (4)\n",
    "<h3>a) Test de la présence d'O2(g) à l'aide du test de la buchette incandescente</h3>\n",
    "(note : la cellule de code ci-dessous permet d'afficher du code html plus complexe qu'une simple cellule de Markdown d'un notebook)"
   ]
  },
  {
   "cell_type": "code",
   "execution_count": 61,
   "metadata": {},
   "outputs": [
    {
     "data": {
      "text/html": [
       "<iframe width=\"560\" height=\"315\" src=\"https://www.youtube.com/embed/KKC4h2Bw8rg?rel=0&amp;controls=0&amp;showinfo=0;&mute=1\" frameborder=\"0\" allowfullscreen></iframe>"
      ],
      "text/plain": [
       "<IPython.core.display.HTML object>"
      ]
     },
     "execution_count": 61,
     "metadata": {},
     "output_type": "execute_result"
    }
   ],
   "source": [
    "HTML('<iframe width=\"560\" height=\"315\" src=\"https://www.youtube.com/embed/KKC4h2Bw8rg?rel=0&amp;controls=0&amp;showinfo=0;&mute=1\" frameborder=\"0\" allowfullscreen></iframe>')"
   ]
  },
  {
   "cell_type": "markdown",
   "metadata": {},
   "source": [
    "<h3>b) Test de la présence de CO2(g) à l'aide du test de l'eau de chaux</h3>\n",
    "L'eau de chaux se trouble en présence de CO2(g) suivant la réaction chimique suivante :<br>\n",
    "Ca(OH)2 + CO2(g) → CaCO3(s) + H2O"
   ]
  },
  {
   "cell_type": "code",
   "execution_count": 64,
   "metadata": {},
   "outputs": [
    {
     "data": {
      "text/html": [
       "<iframe width=\"560\" height=\"315\" src=\"https://www.youtube.com/embed/Y4spQ03cRdw?rel=0&amp;controls=0&amp;showinfo=0;&mute=1\" frameborder=\"0\" allowfullscreen></iframe>"
      ],
      "text/plain": [
       "<IPython.core.display.HTML object>"
      ]
     },
     "execution_count": 64,
     "metadata": {},
     "output_type": "execute_result"
    }
   ],
   "source": [
    "HTML('<iframe width=\"560\" height=\"315\" src=\"https://www.youtube.com/embed/Y4spQ03cRdw?rel=0&amp;controls=0&amp;showinfo=0;&mute=1\" frameborder=\"0\" allowfullscreen></iframe>')"
   ]
  },
  {
   "cell_type": "markdown",
   "metadata": {},
   "source": [
    "Le test de la buchette (négatif) et le test du trouble de l'eau de chaux (positif) permettent d'écarter l'équation candidate (2) qui produit de l'O2(g), et de retenir les équations candidates (3) et (4) qui produisent du CO2(g). Ces tests ne permettent pas de départager les équations candidates (3) et (4)."
   ]
  },
  {
   "cell_type": "markdown",
   "metadata": {},
   "source": [
    "<h2>3) Bilan masse sur les résidus solides</h2>\n",
    "Les équations candidates (3) et (4) prévoient la formation de solides différents : de l'oxyde de sodium Na2O(s) pour la formule (3) et du carbonate de sodium pour la formule (4). En pesant le résidu solide après décomposition thermique, il doit être possible de tester ces équations candidates:\n",
    "<br> 2 NaHCO3(s) → Na2O(s) + 2 CO2(g) + H2O(g) (3)\n",
    "<br> 2 NaHCO3(s) → Na2CO3(s) + CO2(g) + H2O(g) (4)\n",
    "<br><br>Protocole expérimental :<ul>\n",
    "<li>On pèse 2g de NaHCO3, que l'on indroduit dans un tube à essai.\n",
    "<li>On pèse le tube et la matière présente (tube+matière = 30,61g).\n",
    "<li>On chauffe le tube avec un bec bunzène jusqu'à ce que le tube et sa charge ne perde plus de masse\n",
    "<li>On pèse le tube et la matière en fin de décomposition (tube=matière = 29,98g)\n",
    "</ul>\n",
    "<h3>a) Calcul des masses molaires en python à l'aide d'un dictionnaire</h3>\n",
    "Dans la celulle de code ci-dessous un dictionnaire comprend les masses molaires des éléments présents dans le NaHCO3(s)"
   ]
  },
  {
   "cell_type": "code",
   "execution_count": 65,
   "metadata": {},
   "outputs": [
    {
     "data": {
      "text/plain": [
       "16"
      ]
     },
     "execution_count": 65,
     "metadata": {},
     "output_type": "execute_result"
    }
   ],
   "source": [
    "m={'Na':23,'H':1,'C':12,'O':16}\n",
    "m['O']"
   ]
  },
  {
   "cell_type": "markdown",
   "metadata": {},
   "source": [
    "La masse molaire du NaHCO3(s) se calcule en additionnant les masses molaires des différents éléments présents :"
   ]
  },
  {
   "cell_type": "code",
   "execution_count": 66,
   "metadata": {},
   "outputs": [
    {
     "data": {
      "text/plain": [
       "107"
      ]
     },
     "execution_count": 66,
     "metadata": {},
     "output_type": "execute_result"
    }
   ],
   "source": [
    "2*m['Na']+m['H']+m['C']+3*m['O']"
   ]
  },
  {
   "cell_type": "markdown",
   "metadata": {},
   "source": [
    "<h4>Exercice</h4> Programmer une formule python générique permettant de calculer la masse molaire d'une molécule représentée par un objet <i>Counter</i>, en complétant le code ci-dessous (zones à remplir comprenant des XXX)"
   ]
  },
  {
   "cell_type": "code",
   "execution_count": 79,
   "metadata": {},
   "outputs": [],
   "source": [
    "def masse_mol(molecule,masses_molaires={'Na':23,'H':1,'C':12,'O':16}):\n",
    "    \"\"\"\n",
    "    Calcule la masse molaire d'un objet Counter() représentant une molecule\n",
    "    Prend un argument obligatoire : la \"molecule\" (object Counter représentant la molécule) \n",
    "    Prend un argument facultatif \"masses_molaires\" contenant un dictionnaire des masses molaires des différents atomes. \n",
    "        La valeur par défaut de \"masses_molaires\" est le dictionnaire {'Na':23,'H':1,'C':12,'O':16}\n",
    "    Retourne un nombre représentant la masse molaire de la molecule.\n",
    "    \"\"\"\n",
    "    #Le résultat sera un nombre qui est initialisé à 0\n",
    "    resultat=0 \n",
    "    #Itération sur l'ensemble des clés de l'objet Counter représentant la molécule (chaque atome)\n",
    "    #corriger la ligne de code ci-dessous\n",
    "    for atome in molecule:\n",
    "        #Ajoute dans le nombre final la masse molaire de l'atome considéré (clés des objets Counter et dict)\n",
    "        #multipliée par le nombre de fois que cet atome est présent dans la molécule (valeurs stockées dans l'objet Counter)\n",
    "        resultat=resultat+molecule[atome]*masses_molaires[atome]\n",
    "    #Retourne l'objet Counter dont les couples clés-valeur ont été remplis\n",
    "    return resultat"
   ]
  },
  {
   "cell_type": "code",
   "execution_count": null,
   "metadata": {},
   "outputs": [],
   "source": []
  },
  {
   "cell_type": "markdown",
   "metadata": {},
   "source": [
    "Tester cette formule sur le NaHCO3, le Na2O et le Na2CO3"
   ]
  },
  {
   "cell_type": "code",
   "execution_count": null,
   "metadata": {},
   "outputs": [],
   "source": [
    "#Entrez votre code ici"
   ]
  },
  {
   "cell_type": "code",
   "execution_count": 80,
   "metadata": {},
   "outputs": [
    {
     "data": {
      "text/plain": [
       "(84, 62, 106)"
      ]
     },
     "execution_count": 80,
     "metadata": {},
     "output_type": "execute_result"
    }
   ],
   "source": [
    "masse_mol(NaHCO3),masse_mol(Na2O),masse_mol(Na2CO3)"
   ]
  },
  {
   "cell_type": "markdown",
   "metadata": {},
   "source": [
    "Dans le protocole expérimental, la masse finale de matière est de 1,37 g et la ratio d'évolution de la masse de solide est de 0,685"
   ]
  },
  {
   "cell_type": "code",
   "execution_count": 84,
   "metadata": {},
   "outputs": [
    {
     "name": "stdout",
     "output_type": "stream",
     "text": [
      "masse_finale 1.370000000000001\n",
      "ratio_evolution_masse 0.6850000000000005\n"
     ]
    }
   ],
   "source": [
    "masse_initiale=2\n",
    "masse_finale=masse_initiale+29.98-30.61\n",
    "print('masse_finale',masse_finale)\n",
    "ratio_evolution_masse = masse_finale / masse_initiale\n",
    "print('ratio_evolution_masse',ratio_evolution_masse)"
   ]
  },
  {
   "cell_type": "markdown",
   "metadata": {},
   "source": [
    "<h4>Exercice</h4> Calculer le ratio d'évolution de la masse de solide des deux équations candidates (3) et (4). Quelle équation candidate le ratio expérimental conforte-t'il ?"
   ]
  },
  {
   "cell_type": "code",
   "execution_count": 81,
   "metadata": {},
   "outputs": [
    {
     "data": {
      "text/plain": [
       "0.36904761904761907"
      ]
     },
     "execution_count": 81,
     "metadata": {},
     "output_type": "execute_result"
    }
   ],
   "source": [
    "masse_mol(Na2O)/(2*masse_mol(NaHCO3))"
   ]
  },
  {
   "cell_type": "code",
   "execution_count": 83,
   "metadata": {},
   "outputs": [
    {
     "data": {
      "text/plain": [
       "0.6309523809523809"
      ]
     },
     "execution_count": 83,
     "metadata": {},
     "output_type": "execute_result"
    }
   ],
   "source": [
    "masse_mol(Na2CO3)/(2*masse_mol(NaHCO3))"
   ]
  }
 ],
 "metadata": {
  "kernelspec": {
   "display_name": "Python 3",
   "language": "python",
   "name": "python3"
  },
  "language_info": {
   "codemirror_mode": {
    "name": "ipython",
    "version": 3
   },
   "file_extension": ".py",
   "mimetype": "text/x-python",
   "name": "python",
   "nbconvert_exporter": "python",
   "pygments_lexer": "ipython3",
   "version": "3.7.3"
  }
 },
 "nbformat": 4,
 "nbformat_minor": 2
}
